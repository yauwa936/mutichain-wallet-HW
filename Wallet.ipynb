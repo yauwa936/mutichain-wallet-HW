{
 "cells": [
  {
   "cell_type": "code",
   "execution_count": 1,
   "id": "0afb1180-a274-4473-acf0-6e2c15e8f120",
   "metadata": {},
   "outputs": [],
   "source": [
    "# Import dependencies\n",
    "import subprocess\n",
    "import json\n",
    "from dotenv import load_dotenv\n",
    "import os\n",
    "\n",
    "from web3 import Web3, middleware, Account\n",
    "from web3.middleware import geth_poa_middleware\n",
    "from web3.gas_strategies.time_based import medium_gas_price_strategy\n",
    "\n",
    "from bit import PrivateKeyTestnet\n",
    "from bit.network import NetworkAPI\n",
    "from pprint import pprint\n",
    "\n",
    "# Load and set environment variables\n",
    "load_dotenv()\n",
    "mnemonic=os.getenv(\"mnemonic\")\n",
    "\n",
    "# Import constants.py and necessary functions from bit and web3\n",
    "from constants import *\n",
    "\n",
    "# Connect Web3\n",
    "w3 = Web3(Web3.HTTPProvider(\"http://127.0.0.1:8545\"))\n",
    "\n",
    "# Enable PoA middleware\n",
    "w3.middleware_onion.inject(geth_poa_middleware, layer=0)\n",
    " \n",
    "# Create a function called `derive_wallets`\n",
    "def derive_wallets(coin=BTC, mnemonic=mnemonic, depth=3):\n",
    "    command = f'php ./derive -g --mnemonic=\"{mnemonic}\" --cols=all --coin={coin} --numderive={depth} --format=json'\n",
    "    p = subprocess.Popen(command, stdout=subprocess.PIPE, shell=True)\n",
    "    output, err = p.communicate()\n",
    "    p_status = p.wait()\n",
    "    return json.loads(output)\n",
    "\n",
    "\n",
    "# Create a function called `priv_key_to_account` that converts privkey strings to account objects.\n",
    "def priv_key_to_account(coin, priv_key):\n",
    "    if coin == ETH:\n",
    "        return Account.privateKeyToAccount(priv_key)\n",
    "    if coin == BTCTEST:\n",
    "        return PrivateKeyTestnet(priv_key)\n",
    "\n",
    "# Create a function called `create_tx` that creates an unsigned transaction appropriate metadata.\n",
    "def create_tx(coin, account, to, amount):\n",
    "    if coin == ETH:\n",
    "        value = w3.toWei(amount, \"ether\"),\n",
    "        gasEstimate = w3.eth.estimateGas({ \"to\": to, \"from\": account, \"amount\": value }),\n",
    "        return {\n",
    "            \"to\": to,\n",
    "            \"from\": account,\n",
    "            \"value\": value,\n",
    "            \"gas\": gasEstimate,\n",
    "            \"gasPrice\": w3.eth.generateGasPrice(),\n",
    "            \"nonce\": w3.eth.getTransactionCount(account),\n",
    "            \"chainId\": w3.eth.chain_id\n",
    "        }\n",
    "    if coin == BTCTEST:\n",
    "        return PrivateKeyTestnet.prepare_transaction(account.address, [(to, amount, BTC)])\n",
    "\n",
    "# Create a function called `send_tx` that calls `create_tx`, signs and sends the transaction.\n",
    "def send_tx(coin, account, to, amount):\n",
    "    if coin == ETH:\n",
    "        raw_tx = create_tx(coin, account.address, to, amount)\n",
    "        signed = account.signTransaction(raw_tx)\n",
    "        return w3.eth.sendRawTransaction(signed.rawTransaction)\n",
    "    if coin == BTCTEST:\n",
    "        raw_tx = create_tx(coin, account, to, amount)\n",
    "        signed = account.sign_transaction(raw_tx)\n",
    "        return NetworkAPI.broadcast_tx_testnet(signed)\n",
    "\n",
    "# Create a dictionary object called coins to store the output from `derive_wallets`.\n",
    "coins = {\n",
    "    ETH: derive_wallets(coin=ETH),\n",
    "    BTCTEST: derive_wallets(coin=BTCTEST),\n",
    "}"
   ]
  },
  {
   "cell_type": "code",
   "execution_count": 2,
   "id": "e8e43df8-573d-4e2e-b931-e665c16a87a5",
   "metadata": {},
   "outputs": [
    {
     "data": {
      "text/plain": [
       "[{'path': \"m/44'/1'/0'/0/0\",\n",
       "  'address': 'mkwqRYLAfeoMJnnb5A9WegujdggyBeEPGD',\n",
       "  'xprv': 'tprv8khhNkzGYHzyhzgCwAKEf4xVvkBbV2vWqBQpybEMhGHivv3WgwhnjdCguDwQ1ujRnN5JWEM8q8nE8zjHSrthSTvMcxb6V575s5x2zT3q1Pk',\n",
       "  'xpub': 'tpubDHPjXB2WgfgebThzpoyq4UccVmhXeN7RQV1cG7Gf7Y67mQJHKLXNv7pZ5M2WvzFPpQyVgMB9znNEFMefiFvgn7r72wMott5xBJksEZUfWX5',\n",
       "  'privkey': 'cUMT7ptJgxrwSm9s5zSUCKUhSNVq1UC9v31vgoSusyukAciNMdDt',\n",
       "  'pubkey': '02dcb7a11c7172966e58679c0cb207bfb95d119cc55f9fb318d0a522aaff5b9577',\n",
       "  'pubkeyhash': '3b8d4adb98c1922686a0b9b3f10ee0f1ef7a2eb8',\n",
       "  'index': 0},\n",
       " {'path': \"m/44'/1'/0'/0/1\",\n",
       "  'address': 'mmUQuAvBYqVpKzayhaYvnJe9VuwkRdSWPu',\n",
       "  'xprv': 'tprv8khhNkzGYHzyj6e6K8iKuPTCw6YLNRA3tRKCphDT4Yis5AKoPbwFLH7zqay3WqqcsnHCwJZedosPPAXcrHehSKV7MBy57KVPQxyQ3tHyq4g',\n",
       "  'xpub': 'tpubDHPjXB2WgfgecZftCnNvJo7KW84GXkLxTiuz7DFkUpXFueaa1zkqWmjs1gg5EbtryQSJ81NQyoDwvXGWvis4AtWXeZXh9juHNWhUCGZwfRJ',\n",
       "  'privkey': 'cVj1Q51vqgtBEYokpcb6RtjMwVbAsaCmrQRyjMTHFm5rGoziYe44',\n",
       "  'pubkey': '024fca815b769b3e6920eb31081de336536e0a0dcba4955b6d7773b8acc205e0b4',\n",
       "  'pubkeyhash': '4155b748ac4f668e327a8b7a7c928241ba09eb85',\n",
       "  'index': 1},\n",
       " {'path': \"m/44'/1'/0'/0/2\",\n",
       "  'address': 'mxYAxY575hg56rGtU3n6754GfqCKRxzvep',\n",
       "  'xprv': 'tprv8khhNkzGYHzymedp2vc5YrDY9Wo8pZHMTSMLVs5QX2JRV3iaHkTveCATn7hwZehVuu3HV986zzRHULnTF3dUB4gior6YYpv39vDdGmZtvo5',\n",
       "  'xpub': 'tpubDHPjXB2Wgfgef7fbvaGfxFseiYK4ytUG2jx7nP7hwJ6pKXyLv9HWpgnKxHwpFx9yRGdHH7nRWwNVZJ39Neu7znX2LCPrWVgVDEN53WphdpV',\n",
       "  'privkey': 'cMzhL3wx92ETkcCDyTt8ouz8pXQnp7RBpE3pHu1637Sn16qVW9vo',\n",
       "  'pubkey': '03bdfba2cebb0d9fa135451ec068d05e6ddf07d8c79c13afa46b4658b3942cf087',\n",
       "  'pubkeyhash': 'bab5200f7b800fc1fda9a7449df8b99064501931',\n",
       "  'index': 2}]"
      ]
     },
     "execution_count": 2,
     "metadata": {},
     "output_type": "execute_result"
    }
   ],
   "source": [
    "coins['btc-test']"
   ]
  },
  {
   "cell_type": "code",
   "execution_count": 3,
   "id": "e4dda0d2-c1a9-42e4-b121-2821b099af0e",
   "metadata": {},
   "outputs": [
    {
     "data": {
      "text/plain": [
       "[{'path': \"m/44'/60'/0'/0/0\",\n",
       "  'address': '0x02194a55DDA1B029F70220D53f099F38c629ab36',\n",
       "  'xprv': 'xprvA2UAbkzcn2ntbeUWWeryfF3uDhgNm4dauGWnvnDix6CsvCzQuvLXjSRM7JTtTTWK9sX95nFVJwYhVGxXqPToYqhz27ChLeVmsCQQXUKHxdM',\n",
       "  'xpub': 'xpub6FTX1GXWcQMBp8YycgPz2NzdmjWsAXMSGVSPjAdLWRjro1KZTTenHEjpxbBjGGK7wisPZe4htBommydMu8aPzi3Y94xHEdcN3ANiCP23RiY',\n",
       "  'privkey': '0xd36d0f9ff2f6dc80208cd19e0b7d939f11bd1a63d10c38cdc1c58f4dbbc95edc',\n",
       "  'pubkey': '03b21e2e1bc0b74c298d113c5c305c80cc76e67c4ff29e9b31028ea17328f8bba8',\n",
       "  'pubkeyhash': 'a85e006b705f905c3e0e82485a33bf5bae8da52e',\n",
       "  'index': 0},\n",
       " {'path': \"m/44'/60'/0'/0/1\",\n",
       "  'address': '0x3dFb64A5AdAe2aDece2E252FE5E889d61Ef75122',\n",
       "  'xprv': 'xprvA2UAbkzcn2ntezNrVAWRNF7yPRSuWDGEu7CdrwoNhYEjuJdeqhFC9zpZ9Uomp4Tuzf47cQ661EzPLErPP9nSvAHoboLqYTTpNd1xfeFGuUP',\n",
       "  'xpub': 'xpub6FTX1GXWcQMBsUTKbC3RjP4hwTHPufz6GL8EfLCzFsmin6xoPEZSho92znBTHFATi3RFHmhJLpwwR7P9KXcN9f4jAs4YUHRkkyg7spW5kZe',\n",
       "  'privkey': '0x81b180541f1ae73a48976095a58a342611fcedac9c00758510c0f3c0c63e5710',\n",
       "  'pubkey': '03b64da52e7b23d110002752118ecc97052e6637d916794bef1eaac7bba0a54d3b',\n",
       "  'pubkeyhash': '5d352e57cab65ca61793104f70e4b0f4543527aa',\n",
       "  'index': 1},\n",
       " {'path': \"m/44'/60'/0'/0/2\",\n",
       "  'address': '0xdeA9cE1d814f6dAaEe900D864B7f1974Ab2f0A44',\n",
       "  'xprv': 'xprvA2UAbkzcn2ntgZeXYbMHsrr7QnjdtoitxZDqhxkueuRiE6Eb1xqHUjriskG2mrFftCL29AUAj85B22PtvpSqspSWzLp9tzAQ9CsVKiW84m6',\n",
       "  'xpub': 'xpub6FTX1GXWcQMBu3izectJEznqxpa8JGSkKn9SWMAXDExh6tZjZW9Y2YBCj3zfvXnQGoSrYoft3EGeXcURDCp9Mm9Rg4S3hug3GW2UeTFcFsQ',\n",
       "  'privkey': '0x815b3bc011096f513a633ed35581e057423680405381db490576d48b95e1ab15',\n",
       "  'pubkey': '03e58f0070091a989dbede3de95458ddd960381f1846f4414dcc896edc04907735',\n",
       "  'pubkeyhash': 'f1ba997dd9013d7140ac9367cf66ed197c1413b6',\n",
       "  'index': 2}]"
      ]
     },
     "execution_count": 3,
     "metadata": {},
     "output_type": "execute_result"
    }
   ],
   "source": [
    "coins['eth']"
   ]
  },
  {
   "cell_type": "code",
   "execution_count": 7,
   "id": "26283bc6-b0eb-414f-8938-4d0d6737dff0",
   "metadata": {},
   "outputs": [],
   "source": [
    "priv_key_to_account('BTCTEST', 'cVj1Q51vqgtBEYokpcb6RtjMwVbAsaCmrQRyjMTHFm5rGoziYe44')"
   ]
  },
  {
   "cell_type": "code",
   "execution_count": 8,
   "id": "568e78b7-091f-43a0-b27f-f5cb7295def8",
   "metadata": {},
   "outputs": [],
   "source": [
    "create_tx('BTCTEST', 'mmUQuAvBYqVpKzayhaYvnJe9VuwkRdSWPu', 'tb1ql7w62elx9ucw4pj5lgw4l028hmuw80sndtntxt', 0.0001)"
   ]
  },
  {
   "cell_type": "code",
   "execution_count": 9,
   "id": "b01e8814-81a0-400d-8d56-947272edb098",
   "metadata": {},
   "outputs": [],
   "source": [
    "send_tx('BTCTEST', 'mmUQuAvBYqVpKzayhaYvnJe9VuwkRdSWPu', 'tb1ql7w62elx9ucw4pj5lgw4l028hmuw80sndtntxt', 0.0001)"
   ]
  },
  {
   "cell_type": "code",
   "execution_count": null,
   "id": "7253f4eb-268f-4275-a09b-b9c936a15e25",
   "metadata": {},
   "outputs": [],
   "source": []
  }
 ],
 "metadata": {
  "kernelspec": {
   "display_name": "Python 3",
   "language": "python",
   "name": "python3"
  },
  "language_info": {
   "codemirror_mode": {
    "name": "ipython",
    "version": 3
   },
   "file_extension": ".py",
   "mimetype": "text/x-python",
   "name": "python",
   "nbconvert_exporter": "python",
   "pygments_lexer": "ipython3",
   "version": "3.7.10"
  }
 },
 "nbformat": 4,
 "nbformat_minor": 5
}
